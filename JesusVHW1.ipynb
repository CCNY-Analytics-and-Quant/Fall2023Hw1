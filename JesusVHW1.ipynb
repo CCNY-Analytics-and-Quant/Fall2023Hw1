{
 "cells": [
  {
   "cell_type": "markdown",
   "metadata": {},
   "source": [
    "Homework:\n",
    "1) Convert variables to dynamic inputs\n",
    "2) Add investment returns (assume 14% annual return) to both loops\n",
    "3) For While loop  \n",
    "    3a) estimate desired retirement balance  \n",
    "    3b) calculate what age you can retire at  \n",
    "    "
   ]
  },
  {
   "cell_type": "code",
   "execution_count": null,
   "metadata": {},
   "outputs": [],
   "source": [
    "deposit = float(input(\"How much will you contribute every year? \"))\n",
    "cur_age = int(input(\"What is your current age? \"))\n",
    "acct_bal = float(input(\"What is your current account balance? \"))\n",
    "ret_age = int(input(\"At what age do you plan to retire? \"))\n",
    "salary = float(input(\"What is your current salary? \"))\n",
    "rf_rate = float(input(\"Annual salary increase rate (as a decimal, e.g., 0.025 for 2.5%): \"))\n",
    "match_rate = float(input(\"Employer matching rate (as a decimal, e.g., 0.05 for 5%): \"))\n",
    "desired_retirement_balance = float(input(\"Enter your desired\"))\n"
   ]
  },
  {
   "cell_type": "code",
   "execution_count": null,
   "metadata": {},
   "outputs": [],
   "source": [
    "annual_return = 0.14  # 14% annual return\n",
    "for year in range(cur_age, ret_age):\n",
    "    salary *= 1 + rf_rate\n",
    "    matching = salary * match_rate\n",
    "    acct_bal += deposit + matching\n",
    "    acct_bal += acct_bal * annual_return"
   ]
  },
  {
   "cell_type": "code",
   "execution_count": null,
   "metadata": {},
   "outputs": [],
   "source": [
    "age = cur_age\n",
    "while acct_bal < desired_retirement_balance and age < ret_age:\n",
    "    salary *= 1 + rf_rate\n",
    "    matching = salary * match_rate\n",
    "    acct_bal += deposit + matching\n",
    "    acct_bal += acct_bal * annual_return\n",
    "    age += 1\n"
   ]
  },
  {
   "cell_type": "code",
   "execution_count": null,
   "metadata": {},
   "outputs": [],
   "source": [
    "age = cur_age\n",
    "while acct_bal < desired_retirement_balance and age < ret_age:\n",
    "    salary *= 1 + rf_rate\n",
    "    matching = salary * match_rate\n",
    "    acct_bal += deposit + matching\n",
    "    acct_bal += acct_bal * annual_return\n",
    "    age += 1\n",
    "\n",
    "print(\"You can retire at age\", age)"
   ]
  },
  {
   "cell_type": "markdown",
   "metadata": {},
   "source": [
    "Any credit for the code is to John Droescher, Kasfa Mahi and to God because without him nothing is possible :)"
   ]
  }
 ],
 "metadata": {
  "kernelspec": {
   "display_name": "Python 3",
   "language": "python",
   "name": "python3"
  },
  "language_info": {
   "codemirror_mode": {
    "name": "ipython",
    "version": 3
   },
   "file_extension": ".py",
   "mimetype": "text/x-python",
   "name": "python",
   "nbconvert_exporter": "python",
   "pygments_lexer": "ipython3",
   "version": "3.10.5"
  }
 },
 "nbformat": 4,
 "nbformat_minor": 2
}
